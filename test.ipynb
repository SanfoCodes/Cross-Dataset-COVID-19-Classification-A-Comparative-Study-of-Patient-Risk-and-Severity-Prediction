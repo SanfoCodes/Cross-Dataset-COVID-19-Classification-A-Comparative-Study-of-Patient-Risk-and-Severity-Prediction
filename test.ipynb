{
 "cells": [
  {
   "cell_type": "code",
   "execution_count": 1,
   "id": "3c737811-fece-4ca9-bf3a-b6da934cd0a9",
   "metadata": {
    "tags": []
   },
   "outputs": [
    {
     "name": "stdout",
     "output_type": "stream",
     "text": [
      "dataset_1: (316800, 27)\n",
      "dataset_2: (18110, 9)\n",
      "dataset_3: (49068, 10)\n",
      "dataset_4: (86512, 15)\n",
      "dataset_5: (1048575, 21)\n"
     ]
    }
   ],
   "source": [
    "from utils import load_datasets\n",
    "\n",
    "datasets = load_datasets()\n",
    "for name, df in datasets.items():\n",
    "    print(f\"{name}: {df.shape}\")\n"
   ]
  },
  {
   "cell_type": "code",
   "execution_count": null,
   "id": "177b41b7-0666-4829-b434-84372dcb272b",
   "metadata": {},
   "outputs": [],
   "source": []
  }
 ],
 "metadata": {
  "kernelspec": {
   "display_name": "Python 3 (ipykernel)",
   "language": "python",
   "name": "python3"
  },
  "language_info": {
   "codemirror_mode": {
    "name": "ipython",
    "version": 3
   },
   "file_extension": ".py",
   "mimetype": "text/x-python",
   "name": "python",
   "nbconvert_exporter": "python",
   "pygments_lexer": "ipython3",
   "version": "3.11.4"
  }
 },
 "nbformat": 4,
 "nbformat_minor": 5
}
